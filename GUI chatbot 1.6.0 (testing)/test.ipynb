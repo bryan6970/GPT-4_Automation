{
 "cells": [
  {
   "cell_type": "code",
   "execution_count": 14,
   "id": "initial_id",
   "metadata": {
    "collapsed": true,
    "ExecuteTime": {
     "end_time": "2023-09-01T05:36:07.236597100Z",
     "start_time": "2023-09-01T05:36:07.232590100Z"
    }
   },
   "outputs": [],
   "source": [
    "import json\n",
    "import pprint\n",
    "import sys\n",
    "\n",
    "import gcsa.google_calendar\n",
    "from dateutil import parser\n",
    "from beautiful_date import Sept, days, hours\n",
    "from gcsa.event import Event\n"
   ]
  },
  {
   "cell_type": "code",
   "execution_count": 2,
   "outputs": [],
   "source": [
    "\n",
    "with open(\"hyperparameters.json\", \"r\") as file:\n",
    "    hyperparameters = json.load(file)\n"
   ],
   "metadata": {
    "collapsed": false,
    "ExecuteTime": {
     "end_time": "2023-09-01T05:34:32.914582200Z",
     "start_time": "2023-09-01T05:34:32.911038700Z"
    }
   },
   "id": "88be61eebf46bb46"
  },
  {
   "cell_type": "code",
   "execution_count": 35,
   "outputs": [],
   "source": [
    "\n",
    "\n",
    "def init_gc():\n",
    "    global gc\n",
    "    gc = gcsa.google_calendar.GoogleCalendar(credentials_path=hyperparameters[\"path_to_OAuth_credentials\"],\n",
    "                                             token_path=None)\n",
    "    return gc\n",
    "\n",
    "\n",
    "def _include_id(events):\n",
    "    return [str(event) + \" <ID: \" + event.id + \">\" for event in events]\n",
    "\n",
    "def get_gcalendar_events():\n",
    "    return _include_id(gc.get_events(order_by=\"startTime\", single_events=True))"
   ],
   "metadata": {
    "collapsed": false,
    "ExecuteTime": {
     "end_time": "2023-09-01T05:58:22.713649400Z",
     "start_time": "2023-09-01T05:58:22.713146800Z"
    }
   },
   "id": "5eee6a5cb98f679c"
  },
  {
   "cell_type": "code",
   "execution_count": 36,
   "outputs": [],
   "source": [
    "init_gc()\n",
    "\n",
    "events = get_gcalendar_events()"
   ],
   "metadata": {
    "collapsed": false,
    "ExecuteTime": {
     "end_time": "2023-09-01T05:58:23.873356500Z",
     "start_time": "2023-09-01T05:58:23.230668500Z"
    }
   },
   "id": "4674fd09cd36ddfc"
  },
  {
   "cell_type": "code",
   "execution_count": 37,
   "outputs": [
    {
     "data": {
      "text/plain": "['2023-09-01 13:15:00+08:00 - English Compo 2 (Full compo) <ID: 61nr7rfu7m96eplipv0lrgelcf>',\n '2023-09-01 14:30:00+08:00 - Kem <ID: 5mgvcbmdkbbmvb96jpban5u1j0>',\n '2023-09-01 16:00:00+08:00 - hisotry memo <ID: 1ebcfroi69tma17gnf4q7rb1pr>',\n '2023-09-01 17:00:00+08:00 - SRQ Core <ID: 3gfb2fkpicsb5pjbu11ldjhm02>',\n '2023-09-02 14:00:00+08:00 - Chinese <ID: c4rm8e9hcpgm8b9k6spj6b9k61hjgbb16kqmcb9k64r3icj460q6ac9lck_20230902T060000Z>',\n '2023-09-03 06:00:00+08:00 - English <ID: 7ukn924iju5vohcqg63epg5k7s_20230902T220000Z>',\n '2023-09-04 17:00:00+08:00 - Physics revision <ID: 7638ol031a2ang0322fvog4hsv_20230904T090000Z>',\n '2023-09-05 17:00:00+08:00 - Chem revision <ID: 148hkd169fkheqrm0js8ll5eq6_20230905T090000Z>',\n '2023-09-06 14:30:00+08:00 - Meeting with teachers <ID: 70oj4dhp6gpm6b9h6thj8b9kc4pjibb2cgsj8bb36so3ae316dh3io9g60_20230906T063000Z>',\n '2023-09-07 15:00:00+08:00 - History / SS - Writing <ID: 4hih9e2hgg0ejqsoccr34jjak2_20230907T070000Z>',\n '2023-09-07 17:00:00+08:00 - Math assessment book / file worksheets <ID: 35laj4q9qap7d7eh78g2oqepkk_20230907T090000Z>',\n '2023-09-09 14:00:00+08:00 - Chinese <ID: c4rm8e9hcpgm8b9k6spj6b9k61hjgbb16kqmcb9k64r3icj460q6ac9lck_20230909T060000Z>',\n '2023-09-10 06:00:00+08:00 - English <ID: 7ukn924iju5vohcqg63epg5k7s_20230909T220000Z>',\n '2023-09-11 17:00:00+08:00 - Physics revision <ID: 7638ol031a2ang0322fvog4hsv_20230911T090000Z>',\n '2023-09-12 17:00:00+08:00 - Chem revision <ID: 148hkd169fkheqrm0js8ll5eq6_20230912T090000Z>',\n '2023-09-13 14:30:00+08:00 - Meeting with teachers <ID: 70oj4dhp6gpm6b9h6thj8b9kc4pjibb2cgsj8bb36so3ae316dh3io9g60_20230913T063000Z>',\n '2023-09-14 15:00:00+08:00 - History / SS - Writing <ID: 4hih9e2hgg0ejqsoccr34jjak2_20230914T070000Z>',\n '2023-09-14 17:00:00+08:00 - Math assessment book / file worksheets <ID: 35laj4q9qap7d7eh78g2oqepkk_20230914T090000Z>',\n '2023-09-16 14:00:00+08:00 - Chinese <ID: c4rm8e9hcpgm8b9k6spj6b9k61hjgbb16kqmcb9k64r3icj460q6ac9lck_20230916T060000Z>',\n '2023-09-17 06:00:00+08:00 - English <ID: 7ukn924iju5vohcqg63epg5k7s_20230916T220000Z>',\n '2023-09-18 17:00:00+08:00 - Physics revision <ID: 7638ol031a2ang0322fvog4hsv_20230918T090000Z>',\n '2023-09-19 17:00:00+08:00 - Chem revision <ID: 148hkd169fkheqrm0js8ll5eq6_20230919T090000Z>',\n '2023-09-20 14:30:00+08:00 - Meeting with teachers <ID: 70oj4dhp6gpm6b9h6thj8b9kc4pjibb2cgsj8bb36so3ae316dh3io9g60_20230920T063000Z>',\n '2023-09-21 15:00:00+08:00 - History / SS - Writing <ID: 4hih9e2hgg0ejqsoccr34jjak2_20230921T070000Z>',\n '2023-09-21 17:00:00+08:00 - Math assessment book / file worksheets <ID: 35laj4q9qap7d7eh78g2oqepkk_20230921T090000Z>',\n '2023-09-23 14:00:00+08:00 - Chinese <ID: c4rm8e9hcpgm8b9k6spj6b9k61hjgbb16kqmcb9k64r3icj460q6ac9lck_20230923T060000Z>',\n '2023-09-24 06:00:00+08:00 - English <ID: 7ukn924iju5vohcqg63epg5k7s_20230923T220000Z>',\n '2023-09-25 17:00:00+08:00 - Physics revision <ID: 7638ol031a2ang0322fvog4hsv_20230925T090000Z>',\n '2023-09-26 17:00:00+08:00 - Chem revision <ID: 148hkd169fkheqrm0js8ll5eq6_20230926T090000Z>',\n '2023-09-27 14:30:00+08:00 - Meeting with teachers <ID: 70oj4dhp6gpm6b9h6thj8b9kc4pjibb2cgsj8bb36so3ae316dh3io9g60_20230927T063000Z>',\n '2023-09-28 15:00:00+08:00 - History / SS - Writing <ID: 4hih9e2hgg0ejqsoccr34jjak2_20230928T070000Z>',\n '2023-09-28 17:00:00+08:00 - Math assessment book / file worksheets <ID: 35laj4q9qap7d7eh78g2oqepkk_20230928T090000Z>',\n '2023-09-30 14:00:00+08:00 - Chinese <ID: c4rm8e9hcpgm8b9k6spj6b9k61hjgbb16kqmcb9k64r3icj460q6ac9lck_20230930T060000Z>',\n '2023-09-30 16:45:00+08:00 - English <ID: 7ukn924iju5vohcqg63epg5k7s_20230930T220000Z>',\n '2023-10-02 17:00:00+08:00 - Physics revision <ID: 7638ol031a2ang0322fvog4hsv_20231002T090000Z>',\n '2023-10-03 17:00:00+08:00 - Chem revision <ID: 148hkd169fkheqrm0js8ll5eq6_20231003T090000Z>',\n '2023-10-04 14:30:00+08:00 - Meeting with teachers <ID: 70oj4dhp6gpm6b9h6thj8b9kc4pjibb2cgsj8bb36so3ae316dh3io9g60_20231004T063000Z>',\n '2023-10-05 15:00:00+08:00 - History / SS - Writing <ID: 4hih9e2hgg0ejqsoccr34jjak2_20231005T070000Z>',\n '2023-10-05 17:00:00+08:00 - Math assessment book / file worksheets <ID: 35laj4q9qap7d7eh78g2oqepkk_20231005T090000Z>',\n '2023-10-07 14:00:00+08:00 - Chinese <ID: c4rm8e9hcpgm8b9k6spj6b9k61hjgbb16kqmcb9k64r3icj460q6ac9lck_20231007T060000Z>',\n '2023-10-08 06:00:00+08:00 - English <ID: 7ukn924iju5vohcqg63epg5k7s_20231007T220000Z>',\n '2023-10-10 17:00:00+08:00 - Chem revision <ID: 148hkd169fkheqrm0js8ll5eq6_20231010T090000Z>',\n '2023-10-11 14:30:00+08:00 - Meeting with teachers <ID: 70oj4dhp6gpm6b9h6thj8b9kc4pjibb2cgsj8bb36so3ae316dh3io9g60_20231011T063000Z>',\n '2023-10-12 15:00:00+08:00 - History / SS - Writing <ID: 4hih9e2hgg0ejqsoccr34jjak2_20231012T070000Z>',\n '2023-10-12 17:00:00+08:00 - Math assessment book / file worksheets <ID: 35laj4q9qap7d7eh78g2oqepkk_20231012T090000Z>',\n '2023-10-14 14:00:00+08:00 - Chinese <ID: c4rm8e9hcpgm8b9k6spj6b9k61hjgbb16kqmcb9k64r3icj460q6ac9lck_20231014T060000Z>',\n '2023-10-15 06:00:00+08:00 - English <ID: 7ukn924iju5vohcqg63epg5k7s_20231014T220000Z>',\n '2023-10-17 17:00:00+08:00 - Chem revision <ID: 148hkd169fkheqrm0js8ll5eq6_20231017T090000Z>',\n '2023-10-18 14:30:00+08:00 - Meeting with teachers <ID: 70oj4dhp6gpm6b9h6thj8b9kc4pjibb2cgsj8bb36so3ae316dh3io9g60_20231018T063000Z>',\n '2023-10-19 15:00:00+08:00 - History / SS - Writing <ID: 4hih9e2hgg0ejqsoccr34jjak2_20231019T070000Z>',\n '2023-10-19 17:00:00+08:00 - Math assessment book / file worksheets <ID: 35laj4q9qap7d7eh78g2oqepkk_20231019T090000Z>',\n '2023-10-21 14:00:00+08:00 - Chinese <ID: c4rm8e9hcpgm8b9k6spj6b9k61hjgbb16kqmcb9k64r3icj460q6ac9lck_20231021T060000Z>',\n '2023-10-22 06:00:00+08:00 - English <ID: 7ukn924iju5vohcqg63epg5k7s_20231021T220000Z>',\n '2023-10-24 17:00:00+08:00 - Chem revision <ID: 148hkd169fkheqrm0js8ll5eq6_20231024T090000Z>',\n '2023-10-25 14:30:00+08:00 - Meeting with teachers <ID: 70oj4dhp6gpm6b9h6thj8b9kc4pjibb2cgsj8bb36so3ae316dh3io9g60_20231025T063000Z>',\n '2023-10-26 15:00:00+08:00 - History / SS - Writing <ID: 4hih9e2hgg0ejqsoccr34jjak2_20231026T070000Z>',\n '2023-10-26 17:00:00+08:00 - Math assessment book / file worksheets <ID: 35laj4q9qap7d7eh78g2oqepkk_20231026T090000Z>',\n '2023-10-28 14:00:00+08:00 - Chinese <ID: c4rm8e9hcpgm8b9k6spj6b9k61hjgbb16kqmcb9k64r3icj460q6ac9lck_20231028T060000Z>',\n '2023-10-29 06:00:00+08:00 - English <ID: 7ukn924iju5vohcqg63epg5k7s_20231028T220000Z>',\n '2023-10-31 17:00:00+08:00 - Chem revision <ID: 148hkd169fkheqrm0js8ll5eq6_20231031T090000Z>',\n '2023-11-01 14:30:00+08:00 - Meeting with teachers <ID: 70oj4dhp6gpm6b9h6thj8b9kc4pjibb2cgsj8bb36so3ae316dh3io9g60_20231101T063000Z>',\n '2023-11-02 15:00:00+08:00 - History / SS - Writing <ID: 4hih9e2hgg0ejqsoccr34jjak2_20231102T070000Z>',\n '2023-11-02 17:00:00+08:00 - Math assessment book / file worksheets <ID: 35laj4q9qap7d7eh78g2oqepkk_20231102T090000Z>',\n '2023-11-04 14:00:00+08:00 - Chinese <ID: c4rm8e9hcpgm8b9k6spj6b9k61hjgbb16kqmcb9k64r3icj460q6ac9lck_20231104T060000Z>',\n '2023-11-05 06:00:00+08:00 - English <ID: 7ukn924iju5vohcqg63epg5k7s_20231104T220000Z>',\n '2023-11-07 17:00:00+08:00 - Chem revision <ID: 148hkd169fkheqrm0js8ll5eq6_20231107T090000Z>',\n '2023-11-08 14:30:00+08:00 - Meeting with teachers <ID: 70oj4dhp6gpm6b9h6thj8b9kc4pjibb2cgsj8bb36so3ae316dh3io9g60_20231108T063000Z>',\n '2023-11-09 15:00:00+08:00 - History / SS - Writing <ID: 4hih9e2hgg0ejqsoccr34jjak2_20231109T070000Z>',\n '2023-11-09 17:00:00+08:00 - Math assessment book / file worksheets <ID: 35laj4q9qap7d7eh78g2oqepkk_20231109T090000Z>',\n '2023-11-11 14:00:00+08:00 - Chinese <ID: c4rm8e9hcpgm8b9k6spj6b9k61hjgbb16kqmcb9k64r3icj460q6ac9lck_20231111T060000Z>',\n '2023-11-12 06:00:00+08:00 - English <ID: 7ukn924iju5vohcqg63epg5k7s_20231111T220000Z>',\n '2023-11-14 - Scouts camp <ID: 28pk9bg8gbukc6nj0tbb85pmo0>',\n '2023-11-14 17:00:00+08:00 - Chem revision <ID: 148hkd169fkheqrm0js8ll5eq6_20231114T090000Z>',\n '2023-11-15 14:30:00+08:00 - Meeting with teachers <ID: 70oj4dhp6gpm6b9h6thj8b9kc4pjibb2cgsj8bb36so3ae316dh3io9g60_20231115T063000Z>',\n '2023-11-16 15:00:00+08:00 - History / SS - Writing <ID: 4hih9e2hgg0ejqsoccr34jjak2_20231116T070000Z>',\n '2023-11-16 17:00:00+08:00 - Math assessment book / file worksheets <ID: 35laj4q9qap7d7eh78g2oqepkk_20231116T090000Z>',\n '2023-11-18 14:00:00+08:00 - Chinese <ID: c4rm8e9hcpgm8b9k6spj6b9k61hjgbb16kqmcb9k64r3icj460q6ac9lck_20231118T060000Z>',\n '2023-11-22 14:30:00+08:00 - Meeting with teachers <ID: 70oj4dhp6gpm6b9h6thj8b9kc4pjibb2cgsj8bb36so3ae316dh3io9g60_20231122T063000Z>',\n '2023-11-29 14:30:00+08:00 - Meeting with teachers <ID: 70oj4dhp6gpm6b9h6thj8b9kc4pjibb2cgsj8bb36so3ae316dh3io9g60_20231129T063000Z>',\n '2023-12-06 14:30:00+08:00 - Meeting with teachers <ID: 70oj4dhp6gpm6b9h6thj8b9kc4pjibb2cgsj8bb36so3ae316dh3io9g60_20231206T063000Z>',\n '2023-12-13 14:30:00+08:00 - Meeting with teachers <ID: 70oj4dhp6gpm6b9h6thj8b9kc4pjibb2cgsj8bb36so3ae316dh3io9g60_20231213T063000Z>',\n '2023-12-20 14:30:00+08:00 - Meeting with teachers <ID: 70oj4dhp6gpm6b9h6thj8b9kc4pjibb2cgsj8bb36so3ae316dh3io9g60_20231220T063000Z>',\n '2023-12-27 14:30:00+08:00 - Meeting with teachers <ID: 70oj4dhp6gpm6b9h6thj8b9kc4pjibb2cgsj8bb36so3ae316dh3io9g60_20231227T063000Z>',\n '2024-01-03 14:30:00+08:00 - Meeting with teachers <ID: 70oj4dhp6gpm6b9h6thj8b9kc4pjibb2cgsj8bb36so3ae316dh3io9g60_20240103T063000Z>',\n '2024-01-10 14:30:00+08:00 - Meeting with teachers <ID: 70oj4dhp6gpm6b9h6thj8b9kc4pjibb2cgsj8bb36so3ae316dh3io9g60_20240110T063000Z>',\n '2024-01-17 14:30:00+08:00 - Meeting with teachers <ID: 70oj4dhp6gpm6b9h6thj8b9kc4pjibb2cgsj8bb36so3ae316dh3io9g60_20240117T063000Z>',\n '2024-01-24 14:30:00+08:00 - Meeting with teachers <ID: 70oj4dhp6gpm6b9h6thj8b9kc4pjibb2cgsj8bb36so3ae316dh3io9g60_20240124T063000Z>',\n '2024-01-31 14:30:00+08:00 - Meeting with teachers <ID: 70oj4dhp6gpm6b9h6thj8b9kc4pjibb2cgsj8bb36so3ae316dh3io9g60_20240131T063000Z>',\n '2024-02-07 14:30:00+08:00 - Meeting with teachers <ID: 70oj4dhp6gpm6b9h6thj8b9kc4pjibb2cgsj8bb36so3ae316dh3io9g60_20240207T063000Z>',\n '2024-02-14 14:30:00+08:00 - Meeting with teachers <ID: 70oj4dhp6gpm6b9h6thj8b9kc4pjibb2cgsj8bb36so3ae316dh3io9g60_20240214T063000Z>',\n '2024-02-21 14:30:00+08:00 - Meeting with teachers <ID: 70oj4dhp6gpm6b9h6thj8b9kc4pjibb2cgsj8bb36so3ae316dh3io9g60_20240221T063000Z>',\n '2024-02-28 14:30:00+08:00 - Meeting with teachers <ID: 70oj4dhp6gpm6b9h6thj8b9kc4pjibb2cgsj8bb36so3ae316dh3io9g60_20240228T063000Z>',\n '2024-03-06 14:30:00+08:00 - Meeting with teachers <ID: 70oj4dhp6gpm6b9h6thj8b9kc4pjibb2cgsj8bb36so3ae316dh3io9g60_20240306T063000Z>',\n '2024-03-13 14:30:00+08:00 - Meeting with teachers <ID: 70oj4dhp6gpm6b9h6thj8b9kc4pjibb2cgsj8bb36so3ae316dh3io9g60_20240313T063000Z>',\n '2024-03-20 14:30:00+08:00 - Meeting with teachers <ID: 70oj4dhp6gpm6b9h6thj8b9kc4pjibb2cgsj8bb36so3ae316dh3io9g60_20240320T063000Z>',\n '2024-03-27 14:30:00+08:00 - Meeting with teachers <ID: 70oj4dhp6gpm6b9h6thj8b9kc4pjibb2cgsj8bb36so3ae316dh3io9g60_20240327T063000Z>',\n '2024-04-03 14:30:00+08:00 - Meeting with teachers <ID: 70oj4dhp6gpm6b9h6thj8b9kc4pjibb2cgsj8bb36so3ae316dh3io9g60_20240403T063000Z>',\n '2024-04-10 14:30:00+08:00 - Meeting with teachers <ID: 70oj4dhp6gpm6b9h6thj8b9kc4pjibb2cgsj8bb36so3ae316dh3io9g60_20240410T063000Z>',\n '2024-04-17 14:30:00+08:00 - Meeting with teachers <ID: 70oj4dhp6gpm6b9h6thj8b9kc4pjibb2cgsj8bb36so3ae316dh3io9g60_20240417T063000Z>',\n '2024-04-24 14:30:00+08:00 - Meeting with teachers <ID: 70oj4dhp6gpm6b9h6thj8b9kc4pjibb2cgsj8bb36so3ae316dh3io9g60_20240424T063000Z>',\n '2024-05-01 14:30:00+08:00 - Meeting with teachers <ID: 70oj4dhp6gpm6b9h6thj8b9kc4pjibb2cgsj8bb36so3ae316dh3io9g60_20240501T063000Z>',\n '2024-05-08 14:30:00+08:00 - Meeting with teachers <ID: 70oj4dhp6gpm6b9h6thj8b9kc4pjibb2cgsj8bb36so3ae316dh3io9g60_20240508T063000Z>',\n '2024-05-15 14:30:00+08:00 - Meeting with teachers <ID: 70oj4dhp6gpm6b9h6thj8b9kc4pjibb2cgsj8bb36so3ae316dh3io9g60_20240515T063000Z>',\n '2024-05-22 14:30:00+08:00 - Meeting with teachers <ID: 70oj4dhp6gpm6b9h6thj8b9kc4pjibb2cgsj8bb36so3ae316dh3io9g60_20240522T063000Z>',\n '2024-05-29 14:30:00+08:00 - Meeting with teachers <ID: 70oj4dhp6gpm6b9h6thj8b9kc4pjibb2cgsj8bb36so3ae316dh3io9g60_20240529T063000Z>',\n '2024-06-05 14:30:00+08:00 - Meeting with teachers <ID: 70oj4dhp6gpm6b9h6thj8b9kc4pjibb2cgsj8bb36so3ae316dh3io9g60_20240605T063000Z>',\n '2024-06-12 14:30:00+08:00 - Meeting with teachers <ID: 70oj4dhp6gpm6b9h6thj8b9kc4pjibb2cgsj8bb36so3ae316dh3io9g60_20240612T063000Z>',\n '2024-06-19 14:30:00+08:00 - Meeting with teachers <ID: 70oj4dhp6gpm6b9h6thj8b9kc4pjibb2cgsj8bb36so3ae316dh3io9g60_20240619T063000Z>',\n '2024-06-26 14:30:00+08:00 - Meeting with teachers <ID: 70oj4dhp6gpm6b9h6thj8b9kc4pjibb2cgsj8bb36so3ae316dh3io9g60_20240626T063000Z>',\n '2024-07-03 14:30:00+08:00 - Meeting with teachers <ID: 70oj4dhp6gpm6b9h6thj8b9kc4pjibb2cgsj8bb36so3ae316dh3io9g60_20240703T063000Z>',\n '2024-07-10 14:30:00+08:00 - Meeting with teachers <ID: 70oj4dhp6gpm6b9h6thj8b9kc4pjibb2cgsj8bb36so3ae316dh3io9g60_20240710T063000Z>',\n '2024-07-17 14:30:00+08:00 - Meeting with teachers <ID: 70oj4dhp6gpm6b9h6thj8b9kc4pjibb2cgsj8bb36so3ae316dh3io9g60_20240717T063000Z>',\n '2024-07-24 14:30:00+08:00 - Meeting with teachers <ID: 70oj4dhp6gpm6b9h6thj8b9kc4pjibb2cgsj8bb36so3ae316dh3io9g60_20240724T063000Z>',\n '2024-07-31 14:30:00+08:00 - Meeting with teachers <ID: 70oj4dhp6gpm6b9h6thj8b9kc4pjibb2cgsj8bb36so3ae316dh3io9g60_20240731T063000Z>',\n '2024-08-07 14:30:00+08:00 - Meeting with teachers <ID: 70oj4dhp6gpm6b9h6thj8b9kc4pjibb2cgsj8bb36so3ae316dh3io9g60_20240807T063000Z>',\n '2024-08-14 14:30:00+08:00 - Meeting with teachers <ID: 70oj4dhp6gpm6b9h6thj8b9kc4pjibb2cgsj8bb36so3ae316dh3io9g60_20240814T063000Z>',\n '2024-08-21 14:30:00+08:00 - Meeting with teachers <ID: 70oj4dhp6gpm6b9h6thj8b9kc4pjibb2cgsj8bb36so3ae316dh3io9g60_20240821T063000Z>',\n '2024-08-28 14:30:00+08:00 - Meeting with teachers <ID: 70oj4dhp6gpm6b9h6thj8b9kc4pjibb2cgsj8bb36so3ae316dh3io9g60_20240828T063000Z>']"
     },
     "execution_count": 37,
     "metadata": {},
     "output_type": "execute_result"
    }
   ],
   "source": [
    "events"
   ],
   "metadata": {
    "collapsed": false,
    "ExecuteTime": {
     "end_time": "2023-09-01T05:58:23.877586400Z",
     "start_time": "2023-09-01T05:58:23.873356500Z"
    }
   },
   "id": "231739e81a2ca534"
  },
  {
   "cell_type": "code",
   "execution_count": 18,
   "outputs": [
    {
     "name": "stdout",
     "output_type": "stream",
     "text": [
      "None\n"
     ]
    }
   ],
   "source": [],
   "metadata": {
    "collapsed": false,
    "ExecuteTime": {
     "end_time": "2023-09-01T05:36:24.827207700Z",
     "start_time": "2023-09-01T05:36:24.827207700Z"
    }
   },
   "id": "c52ced34e2d2c980"
  },
  {
   "cell_type": "code",
   "execution_count": 19,
   "outputs": [
    {
     "ename": "AttributeError",
     "evalue": "'NoneType' object has no attribute 'lower'",
     "output_type": "error",
     "traceback": [
      "\u001B[1;31m---------------------------------------------------------------------------\u001B[0m",
      "\u001B[1;31mAttributeError\u001B[0m                            Traceback (most recent call last)",
      "Cell \u001B[1;32mIn[19], line 1\u001B[0m\n\u001B[1;32m----> 1\u001B[0m \u001B[43mevent\u001B[49m\u001B[38;5;241;43m.\u001B[39;49m\u001B[43mid\u001B[49m\u001B[38;5;241;43m.\u001B[39;49m\u001B[43mlower\u001B[49m()\n",
      "\u001B[1;31mAttributeError\u001B[0m: 'NoneType' object has no attribute 'lower'"
     ]
    }
   ],
   "source": [],
   "metadata": {
    "collapsed": false,
    "ExecuteTime": {
     "end_time": "2023-09-01T05:37:01.119353400Z",
     "start_time": "2023-09-01T05:37:01.105435300Z"
    }
   },
   "id": "302ce7e2731b3fba"
  },
  {
   "cell_type": "code",
   "execution_count": null,
   "outputs": [],
   "source": [],
   "metadata": {
    "collapsed": false
   },
   "id": "b64a601f134ae770"
  }
 ],
 "metadata": {
  "kernelspec": {
   "display_name": "Python 3",
   "language": "python",
   "name": "python3"
  },
  "language_info": {
   "codemirror_mode": {
    "name": "ipython",
    "version": 2
   },
   "file_extension": ".py",
   "mimetype": "text/x-python",
   "name": "python",
   "nbconvert_exporter": "python",
   "pygments_lexer": "ipython2",
   "version": "2.7.6"
  }
 },
 "nbformat": 4,
 "nbformat_minor": 5
}
